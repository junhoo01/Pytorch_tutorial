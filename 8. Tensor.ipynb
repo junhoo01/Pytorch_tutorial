{
  "nbformat": 4,
  "nbformat_minor": 0,
  "metadata": {
    "colab": {
      "provenance": [],
      "authorship_tag": "ABX9TyN2qfUZam0MYAyE//8Ukos6",
      "include_colab_link": true
    },
    "kernelspec": {
      "name": "python3",
      "display_name": "Python 3"
    },
    "language_info": {
      "name": "python"
    }
  },
  "cells": [
    {
      "cell_type": "markdown",
      "metadata": {
        "id": "view-in-github",
        "colab_type": "text"
      },
      "source": [
        "<a href=\"https://colab.research.google.com/github/junhoo01/Pytorch_tutorial/blob/main/8.%20Tensor.ipynb\" target=\"_parent\"><img src=\"https://colab.research.google.com/assets/colab-badge.svg\" alt=\"Open In Colab\"/></a>"
      ]
    },
    {
      "cell_type": "code",
      "execution_count": 6,
      "metadata": {
        "id": "ubOIKlqllQcy"
      },
      "outputs": [],
      "source": [
        "import numpy as np"
      ]
    },
    {
      "cell_type": "code",
      "source": [
        "#Scala\n",
        "\n",
        "d = np.array(5)\n",
        "#dim => 텐서의 차원, 축(axis)\n",
        "print('텐서의 차원 :',d.ndim)\n",
        "print('텐서의 크기(shape) :',d.shape)"
      ],
      "metadata": {
        "colab": {
          "base_uri": "https://localhost:8080/"
        },
        "id": "dx15dXxrlSSk",
        "outputId": "4649fd6b-e245-47f8-9846-d58941a9ce92"
      },
      "execution_count": 7,
      "outputs": [
        {
          "output_type": "stream",
          "name": "stdout",
          "text": [
            "텐서의 차원 : 0\n",
            "텐서의 크기(shape) : ()\n"
          ]
        }
      ]
    },
    {
      "cell_type": "code",
      "source": [
        "#Vector\n",
        "\n",
        "d = np.array([1, 2, 3, 4])\n",
        "print('텐서의 차원 :',d.ndim)\n",
        "print('텐서의 크기(shape) :',d.shape)"
      ],
      "metadata": {
        "colab": {
          "base_uri": "https://localhost:8080/"
        },
        "id": "x8CGtNIzlSU5",
        "outputId": "c977bad3-d250-4cc8-d9bb-5f8a4d532b90"
      },
      "execution_count": 8,
      "outputs": [
        {
          "output_type": "stream",
          "name": "stdout",
          "text": [
            "텐서의 차원 : 1\n",
            "텐서의 크기(shape) : (4,)\n"
          ]
        }
      ]
    },
    {
      "cell_type": "code",
      "source": [
        "#Matrix\n",
        "\n",
        "# 3행 4열의 행렬\n",
        "d = np.array([[1, 2, 3, 4], [5, 6, 7, 8], [9, 10, 11, 12]])\n",
        "print('텐서의 차원 :',d.ndim)\n",
        "print('텐서의 크기(shape) :',d.shape)"
      ],
      "metadata": {
        "colab": {
          "base_uri": "https://localhost:8080/"
        },
        "id": "gH8ARs5AlSXQ",
        "outputId": "099731ac-50f6-483f-e2c8-04b42950c576"
      },
      "execution_count": 9,
      "outputs": [
        {
          "output_type": "stream",
          "name": "stdout",
          "text": [
            "텐서의 차원 : 2\n",
            "텐서의 크기(shape) : (3, 4)\n"
          ]
        }
      ]
    },
    {
      "cell_type": "code",
      "source": [
        "#3D Tensor\n",
        "\n",
        "d = np.array([\n",
        "            [[1, 2, 3, 4, 5], [6, 7, 8, 9, 10], [10, 11, 12, 13, 14]],\n",
        "            [[15, 16, 17, 18, 19], [19, 20, 21, 22, 23], [23, 24, 25, 26, 27]]\n",
        "            ])\n",
        "print('텐서의 차원 :',d.ndim)\n",
        "print('텐서의 크기(shape) :',d.shape)\n",
        "#Matrix가 2개 => 3*5 matrix ==> (2,3,5)"
      ],
      "metadata": {
        "colab": {
          "base_uri": "https://localhost:8080/"
        },
        "id": "w6No6N9elSZX",
        "outputId": "adbd3aff-799e-4a9f-908c-0ecaa03ab225"
      },
      "execution_count": 10,
      "outputs": [
        {
          "output_type": "stream",
          "name": "stdout",
          "text": [
            "텐서의 차원 : 3\n",
            "텐서의 크기(shape) : (2, 3, 5)\n"
          ]
        }
      ]
    },
    {
      "cell_type": "code",
      "source": [
        "#3D Tensor => 주로 문장이나 문서, 뉴스기사등의 텍스트\n",
        "#(Samples, Timesteps, Word_dim)\n",
        "\n",
        "#3D Tensor를 배열로 합치면 4D Tensor\n",
        "#4D Tensor => 5D Tensor"
      ],
      "metadata": {
        "id": "NLHGFaDylSbt"
      },
      "execution_count": 11,
      "outputs": []
    },
    {
      "cell_type": "code",
      "source": [
        "##########################################\n",
        "\n",
        "#Computation\n",
        "\n",
        "##########################################"
      ],
      "metadata": {
        "id": "v_bNxwE-lSeE"
      },
      "execution_count": 12,
      "outputs": []
    },
    {
      "cell_type": "code",
      "source": [
        "import numpy as np"
      ],
      "metadata": {
        "id": "OnhwWpOQlSgV"
      },
      "execution_count": 13,
      "outputs": []
    },
    {
      "cell_type": "code",
      "source": [
        "#Vectors\n",
        "#그냥 +,-로 하면 생각하는 벡터 연산\n",
        "\n",
        "A = np.array([8, 4, 5])\n",
        "B = np.array([1, 2, 3])\n",
        "print('두 벡터의 합 :',A+B)\n",
        "print('두 벡터의 차 :',A-B)"
      ],
      "metadata": {
        "colab": {
          "base_uri": "https://localhost:8080/"
        },
        "id": "gd2TnTxYlSie",
        "outputId": "67cd8584-720e-49a2-ddd4-05b221199a14"
      },
      "execution_count": 14,
      "outputs": [
        {
          "output_type": "stream",
          "name": "stdout",
          "text": [
            "두 벡터의 합 : [9 6 8]\n",
            "두 벡터의 차 : [7 2 2]\n"
          ]
        }
      ]
    },
    {
      "cell_type": "code",
      "source": [
        "#Matrix\n",
        "#그냥 +,-로 하면 생각하는 행렬 연\n",
        "\n",
        "A = np.array([[10, 20, 30, 40], [50, 60, 70, 80]])\n",
        "B = np.array([[5, 6, 7, 8],[1, 2, 3, 4]])\n",
        "print('두 행렬의 합 :')\n",
        "print(A + B)\n",
        "print('두 행렬의 차 :')\n",
        "print(A - B)"
      ],
      "metadata": {
        "colab": {
          "base_uri": "https://localhost:8080/"
        },
        "id": "sn5j0plYlSku",
        "outputId": "ad697ae1-0b4d-4ada-e308-6e3bf88ed642"
      },
      "execution_count": 15,
      "outputs": [
        {
          "output_type": "stream",
          "name": "stdout",
          "text": [
            "두 행렬의 합 :\n",
            "[[15 26 37 48]\n",
            " [51 62 73 84]]\n",
            "두 행렬의 차 :\n",
            "[[ 5 14 23 32]\n",
            " [49 58 67 76]]\n"
          ]
        }
      ]
    },
    {
      "cell_type": "code",
      "source": [
        "#Innner Product\n",
        "#np.dot으로 시행\n",
        "\n",
        "A = np.array([1, 2, 3])\n",
        "B = np.array([4, 5, 6])\n",
        "print('두 벡터의 내적 :',np.dot(A, B))"
      ],
      "metadata": {
        "colab": {
          "base_uri": "https://localhost:8080/"
        },
        "id": "lXlLhfcKn6pv",
        "outputId": "5b48b8ed-5026-4bfa-b18f-e964738a41c6"
      },
      "execution_count": 16,
      "outputs": [
        {
          "output_type": "stream",
          "name": "stdout",
          "text": [
            "두 벡터의 내적 : 32\n"
          ]
        }
      ]
    },
    {
      "cell_type": "code",
      "source": [
        "#행렬곱1 => matmul사용\n",
        "#뭐 m*n 행렬과 곱할려면 n*x 행렬과 곱해야한다 (n값 저게 같아야함)\n",
        "\n",
        "A = np.array([[1, 3],[2, 4]])\n",
        "B = np.array([[5, 7],[6, 8]])\n",
        "print('두 행렬의 행렬곱 :')\n",
        "print(np.matmul(A, B))"
      ],
      "metadata": {
        "colab": {
          "base_uri": "https://localhost:8080/"
        },
        "id": "VyAtVgRZn67d",
        "outputId": "fe85ea7e-90a7-4cf3-9bb5-b6f099a33128"
      },
      "execution_count": 17,
      "outputs": [
        {
          "output_type": "stream",
          "name": "stdout",
          "text": [
            "두 행렬의 행렬곱 :\n",
            "[[23 31]\n",
            " [34 46]]\n"
          ]
        }
      ]
    },
    {
      "cell_type": "code",
      "source": [
        "#Linear Regression식도 weight와 parameter의 곱으로 생각할 수 있고,\n",
        "#Data가 많아지면 행렬과 벡터의 곱으로 생각할 수 도 있다."
      ],
      "metadata": {
        "id": "lbIvnwMno_0l"
      },
      "execution_count": 18,
      "outputs": []
    },
    {
      "cell_type": "code",
      "source": [
        "#각각의 Data를 Sample이라고 하고\n",
        "#각각의 독립변수(parameter)를 feature라고 한다."
      ],
      "metadata": {
        "id": "rUFN29DGpQzl"
      },
      "execution_count": 19,
      "outputs": []
    }
  ]
}