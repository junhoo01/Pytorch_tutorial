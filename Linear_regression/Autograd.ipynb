{
 "cells": [
  {
   "cell_type": "code",
   "execution_count": 1,
   "id": "6452936d-5cae-410f-9261-75531f56836a",
   "metadata": {},
   "outputs": [],
   "source": [
    "import torch"
   ]
  },
  {
   "cell_type": "code",
   "execution_count": 2,
   "id": "07a00a8c-3dec-41ea-ae7c-da50c7eb1d45",
   "metadata": {},
   "outputs": [],
   "source": [
    "# w를 미분 가능한 scala tensor로 선언\n",
    "w = torch.tensor(3.0, requires_grad=True)"
   ]
  },
  {
   "cell_type": "code",
   "execution_count": 3,
   "id": "5f0ec36f-dff5-4a68-8673-4609fb6e4bd5",
   "metadata": {},
   "outputs": [],
   "source": [
    "# z = 2w^2 + 5 \n",
    "y = w**2\n",
    "z = 2*y + 5"
   ]
  },
  {
   "cell_type": "code",
   "execution_count": 4,
   "id": "7f654b68-fc73-4159-ad55-fc05de8e7053",
   "metadata": {},
   "outputs": [],
   "source": [
    "# z를 w에 관해서 미분\n",
    "z.backward()"
   ]
  },
  {
   "cell_type": "code",
   "execution_count": 5,
   "id": "4518ec6c-ae49-434c-a214-f0d824741342",
   "metadata": {},
   "outputs": [
    {
     "name": "stdout",
     "output_type": "stream",
     "text": [
      "수식을 w로 미분한 값 : 12.0\n"
     ]
    }
   ],
   "source": [
    "print('수식을 w로 미분한 값 : {}'.format(w.grad))"
   ]
  }
 ],
 "metadata": {
  "kernelspec": {
   "display_name": "Python 3 (ipykernel)",
   "language": "python",
   "name": "python3"
  },
  "language_info": {
   "codemirror_mode": {
    "name": "ipython",
    "version": 3
   },
   "file_extension": ".py",
   "mimetype": "text/x-python",
   "name": "python",
   "nbconvert_exporter": "python",
   "pygments_lexer": "ipython3",
   "version": "3.11.5"
  }
 },
 "nbformat": 4,
 "nbformat_minor": 5
}
