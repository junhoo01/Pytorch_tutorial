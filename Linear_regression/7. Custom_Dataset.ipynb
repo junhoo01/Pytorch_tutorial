{
  "nbformat": 4,
  "nbformat_minor": 0,
  "metadata": {
    "colab": {
      "provenance": [],
      "authorship_tag": "ABX9TyNRuF6oRj+tOlATpsU3HkZR"
    },
    "kernelspec": {
      "name": "python3",
      "display_name": "Python 3"
    },
    "language_info": {
      "name": "python"
    }
  },
  "cells": [
    {
      "cell_type": "code",
      "execution_count": 1,
      "metadata": {
        "id": "0Skdlgl7iVwC"
      },
      "outputs": [],
      "source": [
        "import torch\n",
        "import torch.nn.functional as F\n",
        "from torch.utils.data import Dataset\n",
        "from torch.utils.data import DataLoader"
      ]
    },
    {
      "cell_type": "code",
      "source": [
        "# torch.utils.data.Dataset에서 Dataset 상속\n",
        "class CustomDataset(Dataset):\n",
        "  # Data 전처리\n",
        "  def __init__(self):\n",
        "    self.x_data = [[73, 80, 75],\n",
        "                   [93, 88, 93],\n",
        "                   [89, 91, 90],\n",
        "                   [96, 98, 100],\n",
        "                   [73, 66, 70]]\n",
        "    self.y_data = [[152], [185], [180], [196], [142]]\n",
        "\n",
        "  # 총 데이터의 개수를 리턴\n",
        "  def __len__(self):\n",
        "    return len(self.x_data)\n",
        "\n",
        "  # 인덱스를 입력 받았을 때 해당하는 data를 Tensor형태로 출력\n",
        "  def __getitem__(self, idx):\n",
        "    x = torch.FloatTensor(self.x_data[idx])\n",
        "    y = torch.FloatTensor(self.y_data[idx])\n",
        "    return x, y"
      ],
      "metadata": {
        "id": "NxZUdKHii2ey"
      },
      "execution_count": 7,
      "outputs": []
    },
    {
      "cell_type": "code",
      "source": [
        "dataset = CustomDataset()\n",
        "dataloader = DataLoader(dataset, batch_size=2, shuffle=True)"
      ],
      "metadata": {
        "id": "BSXadbrSjkLy"
      },
      "execution_count": 8,
      "outputs": []
    },
    {
      "cell_type": "code",
      "source": [
        "model = torch.nn.Linear(3,1)\n",
        "optimizer = torch.optim.SGD(model.parameters(), lr=1e-5)"
      ],
      "metadata": {
        "id": "yrlFWfRJjks6"
      },
      "execution_count": 9,
      "outputs": []
    },
    {
      "cell_type": "code",
      "source": [
        "nb_epochs = 20\n",
        "for epoch in range(nb_epochs + 1):\n",
        "  for batch_idx, samples in enumerate(dataloader):\n",
        "    # print(batch_idx)\n",
        "    # print(samples)\n",
        "    x_train, y_train = samples\n",
        "    # H(x) 계산\n",
        "    prediction = model(x_train)\n",
        "\n",
        "    # cost 계산\n",
        "    cost = F.mse_loss(prediction, y_train)\n",
        "\n",
        "    # cost로 H(x) 계산\n",
        "    optimizer.zero_grad()\n",
        "    cost.backward()\n",
        "    optimizer.step()\n",
        "\n",
        "    print('Epoch {:4d}/{} Batch {}/{} Cost: {:.6f}'.format(\n",
        "        epoch, nb_epochs, batch_idx+1, len(dataloader),\n",
        "        cost.item()\n",
        "        ))\n"
      ],
      "metadata": {
        "colab": {
          "base_uri": "https://localhost:8080/"
        },
        "id": "1aOj5pU8jkvg",
        "outputId": "4b985c68-9a16-4e78-9df1-e65fd366adf6"
      },
      "execution_count": 10,
      "outputs": [
        {
          "output_type": "stream",
          "name": "stdout",
          "text": [
            "Epoch    0/20 Batch 1/3 Cost: 101016.734375\n",
            "Epoch    0/20 Batch 2/3 Cost: 23842.476562\n",
            "Epoch    0/20 Batch 3/3 Cost: 4770.457031\n",
            "Epoch    1/20 Batch 1/3 Cost: 3228.842529\n",
            "Epoch    1/20 Batch 2/3 Cost: 1238.946289\n",
            "Epoch    1/20 Batch 3/3 Cost: 228.902969\n",
            "Epoch    2/20 Batch 1/3 Cost: 111.355171\n",
            "Epoch    2/20 Batch 2/3 Cost: 29.100313\n",
            "Epoch    2/20 Batch 3/3 Cost: 27.615717\n",
            "Epoch    3/20 Batch 1/3 Cost: 3.440299\n",
            "Epoch    3/20 Batch 2/3 Cost: 0.317368\n",
            "Epoch    3/20 Batch 3/3 Cost: 7.326531\n",
            "Epoch    4/20 Batch 1/3 Cost: 1.801908\n",
            "Epoch    4/20 Batch 2/3 Cost: 1.233152\n",
            "Epoch    4/20 Batch 3/3 Cost: 5.595128\n",
            "Epoch    5/20 Batch 1/3 Cost: 1.539594\n",
            "Epoch    5/20 Batch 2/3 Cost: 2.209102\n",
            "Epoch    5/20 Batch 3/3 Cost: 5.422226\n",
            "Epoch    6/20 Batch 1/3 Cost: 1.742629\n",
            "Epoch    6/20 Batch 2/3 Cost: 3.939995\n",
            "Epoch    6/20 Batch 3/3 Cost: 2.025723\n",
            "Epoch    7/20 Batch 1/3 Cost: 0.266980\n",
            "Epoch    7/20 Batch 2/3 Cost: 2.628617\n",
            "Epoch    7/20 Batch 3/3 Cost: 5.421658\n",
            "Epoch    8/20 Batch 1/3 Cost: 1.743934\n",
            "Epoch    8/20 Batch 2/3 Cost: 4.965383\n",
            "Epoch    8/20 Batch 3/3 Cost: 0.896936\n",
            "Epoch    9/20 Batch 1/3 Cost: 0.333466\n",
            "Epoch    9/20 Batch 2/3 Cost: 5.719602\n",
            "Epoch    9/20 Batch 3/3 Cost: 2.453437\n",
            "Epoch   10/20 Batch 1/3 Cost: 3.198310\n",
            "Epoch   10/20 Batch 2/3 Cost: 0.877084\n",
            "Epoch   10/20 Batch 3/3 Cost: 4.309349\n",
            "Epoch   11/20 Batch 1/3 Cost: 1.802650\n",
            "Epoch   11/20 Batch 2/3 Cost: 3.854792\n",
            "Epoch   11/20 Batch 3/3 Cost: 3.552457\n",
            "Epoch   12/20 Batch 1/3 Cost: 1.831376\n",
            "Epoch   12/20 Batch 2/3 Cost: 2.692650\n",
            "Epoch   12/20 Batch 3/3 Cost: 1.851138\n",
            "Epoch   13/20 Batch 1/3 Cost: 2.172204\n",
            "Epoch   13/20 Batch 2/3 Cost: 0.820053\n",
            "Epoch   13/20 Batch 3/3 Cost: 6.595843\n",
            "Epoch   14/20 Batch 1/3 Cost: 1.831078\n",
            "Epoch   14/20 Batch 2/3 Cost: 2.502953\n",
            "Epoch   14/20 Batch 3/3 Cost: 1.644301\n",
            "Epoch   15/20 Batch 1/3 Cost: 0.596830\n",
            "Epoch   15/20 Batch 2/3 Cost: 5.708329\n",
            "Epoch   15/20 Batch 3/3 Cost: 1.556745\n",
            "Epoch   16/20 Batch 1/3 Cost: 0.632644\n",
            "Epoch   16/20 Batch 2/3 Cost: 5.080428\n",
            "Epoch   16/20 Batch 3/3 Cost: 2.740385\n",
            "Epoch   17/20 Batch 1/3 Cost: 0.415701\n",
            "Epoch   17/20 Batch 2/3 Cost: 5.991965\n",
            "Epoch   17/20 Batch 3/3 Cost: 1.546254\n",
            "Epoch   18/20 Batch 1/3 Cost: 0.604232\n",
            "Epoch   18/20 Batch 2/3 Cost: 2.318635\n",
            "Epoch   18/20 Batch 3/3 Cost: 5.045691\n",
            "Epoch   19/20 Batch 1/3 Cost: 1.593435\n",
            "Epoch   19/20 Batch 2/3 Cost: 5.068368\n",
            "Epoch   19/20 Batch 3/3 Cost: 0.888517\n",
            "Epoch   20/20 Batch 1/3 Cost: 3.040315\n",
            "Epoch   20/20 Batch 2/3 Cost: 0.980861\n",
            "Epoch   20/20 Batch 3/3 Cost: 4.145961\n"
          ]
        }
      ]
    },
    {
      "cell_type": "code",
      "source": [
        "# 임의의 입력 [73, 80, 75]를 선언\n",
        "new_var =  torch.FloatTensor([[73, 80, 75]])\n",
        "# 입력한 값 [73, 80, 75]에 대해서 예측값 y를 리턴받아서 pred_y에 저장\n",
        "pred_y = model(new_var)\n",
        "print(\"훈련 후 입력이 73, 80, 75일 때의 예측값 :\", pred_y)\n"
      ],
      "metadata": {
        "colab": {
          "base_uri": "https://localhost:8080/"
        },
        "id": "SH0QWtxmkDqT",
        "outputId": "277f0f9d-3cb1-48cd-9672-77273b29ed93"
      },
      "execution_count": 11,
      "outputs": [
        {
          "output_type": "stream",
          "name": "stdout",
          "text": [
            "훈련 후 입력이 73, 80, 75일 때의 예측값 : tensor([[153.3107]], grad_fn=<AddmmBackward0>)\n"
          ]
        }
      ]
    }
  ]
}
