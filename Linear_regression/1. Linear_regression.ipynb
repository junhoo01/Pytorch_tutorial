{
 "cells": [
  {
   "cell_type": "code",
   "execution_count": 1,
   "id": "60d7db25-c4b3-407f-ade3-97452b41799a",
   "metadata": {},
   "outputs": [],
   "source": [
    "import torch\n",
    "import torch.nn as nn\n",
    "import torch.nn.functional as F\n",
    "import torch.optim as optim"
   ]
  },
  {
   "cell_type": "code",
   "execution_count": 2,
   "id": "23440c9e-fad9-48a2-825c-98225387545e",
   "metadata": {},
   "outputs": [
    {
     "data": {
      "text/plain": [
       "<torch._C.Generator at 0x27f17a9e1f0>"
      ]
     },
     "execution_count": 2,
     "metadata": {},
     "output_type": "execute_result"
    }
   ],
   "source": [
    "# 현재 실습하고 있는 파이썬 코드를 재실행해도 다음에도 같은 결과가 나오도록 랜덤 시드(random seed)를 줍니다.\n",
    "torch.manual_seed(1)"
   ]
  },
  {
   "cell_type": "code",
   "execution_count": 3,
   "id": "731516b9-9c7d-4ffa-9168-8075eb3122d8",
   "metadata": {},
   "outputs": [],
   "source": [
    "#(1,2) (2,4) (3,6)의 test_dataset 생성 \n",
    "# torch.FloatTensor => 32-bit floating point의 data type을 가진 tensor생성\n",
    "x_train = torch.FloatTensor([[1], [2], [3]])\n",
    "y_train = torch.FloatTensor([[2], [4], [6]])"
   ]
  },
  {
   "cell_type": "code",
   "execution_count": 4,
   "id": "ead6b3a4-2c3a-40d0-9952-9f4a120bd5a9",
   "metadata": {},
   "outputs": [
    {
     "name": "stdout",
     "output_type": "stream",
     "text": [
      "tensor([0.], requires_grad=True)\n"
     ]
    }
   ],
   "source": [
    "# 가중치 W를 0으로 초기화하고 학습을 통해 값이 변경되는 변수임을 명시함.\n",
    "# torch.zeros(n) => 모든 원소가 0인 1차원 텐서 생성 (원소 개수 n개)\n",
    "# requires_grad=True ==> 미분값 계산을 가능하도록 함\n",
    "W = torch.zeros(1, requires_grad=True) \n",
    "# 가중치 W를 출력\n",
    "print(W)"
   ]
  },
  {
   "cell_type": "code",
   "execution_count": 5,
   "id": "4b98bf91-4017-41e5-9004-40dd5a76e4fa",
   "metadata": {},
   "outputs": [
    {
     "name": "stdout",
     "output_type": "stream",
     "text": [
      "tensor([0.], requires_grad=True)\n"
     ]
    }
   ],
   "source": [
    "# bias도 0으로 초기화 \n",
    "b = torch.zeros(1, requires_grad=True)\n",
    "print(b)"
   ]
  },
  {
   "cell_type": "code",
   "execution_count": 9,
   "id": "9e29b71b-0d00-4c9f-b467-649ab13119bb",
   "metadata": {},
   "outputs": [],
   "source": [
    "optimizer = optim.SGD([W, b], lr=0.05)"
   ]
  },
  {
   "cell_type": "code",
   "execution_count": 10,
   "id": "baef284d-b659-4e84-b51c-141f2db44e7a",
   "metadata": {},
   "outputs": [
    {
     "name": "stdout",
     "output_type": "stream",
     "text": [
      "Epoch    0/1999 W: 1.997, b: 0.006 Cost: 0.000005\n",
      "Epoch  100/1999 W: 1.999, b: 0.002 Cost: 0.000000\n",
      "Epoch  200/1999 W: 2.000, b: 0.001 Cost: 0.000000\n",
      "Epoch  300/1999 W: 2.000, b: 0.000 Cost: 0.000000\n",
      "Epoch  400/1999 W: 2.000, b: 0.000 Cost: 0.000000\n",
      "Epoch  500/1999 W: 2.000, b: 0.000 Cost: 0.000000\n",
      "Epoch  600/1999 W: 2.000, b: 0.000 Cost: 0.000000\n",
      "Epoch  700/1999 W: 2.000, b: 0.000 Cost: 0.000000\n",
      "Epoch  800/1999 W: 2.000, b: 0.000 Cost: 0.000000\n",
      "Epoch  900/1999 W: 2.000, b: 0.000 Cost: 0.000000\n",
      "Epoch 1000/1999 W: 2.000, b: 0.000 Cost: 0.000000\n",
      "Epoch 1100/1999 W: 2.000, b: 0.000 Cost: 0.000000\n",
      "Epoch 1200/1999 W: 2.000, b: 0.000 Cost: 0.000000\n",
      "Epoch 1300/1999 W: 2.000, b: 0.000 Cost: 0.000000\n",
      "Epoch 1400/1999 W: 2.000, b: 0.000 Cost: 0.000000\n",
      "Epoch 1500/1999 W: 2.000, b: 0.000 Cost: 0.000000\n",
      "Epoch 1600/1999 W: 2.000, b: 0.000 Cost: 0.000000\n",
      "Epoch 1700/1999 W: 2.000, b: 0.000 Cost: 0.000000\n",
      "Epoch 1800/1999 W: 2.000, b: 0.000 Cost: 0.000000\n",
      "Epoch 1900/1999 W: 2.000, b: 0.000 Cost: 0.000000\n"
     ]
    }
   ],
   "source": [
    "nb_epochs = 1999 # 원하는만큼 경사 하강법을 반복\n",
    "for epoch in range(nb_epochs + 1):\n",
    "\n",
    "    #현재 가설로의 예측값\n",
    "    hypothesis = x_train * W + b\n",
    "\n",
    "    #cost (mean square error로 측정)\n",
    "    cost = torch.mean((hypothesis - y_train) ** 2)\n",
    "\n",
    "    # cost로 H(x) 개선\n",
    "        \n",
    "    #gradient 초기화\n",
    "    optimizer.zero_grad()\n",
    "    #cost 함수를 통해서 gradient 계산\n",
    "    cost.backward()\n",
    "    # weight와 bias 업데이트\n",
    "    optimizer.step()\n",
    "\n",
    "    # 100번마다 로그 출력\n",
    "    if epoch % 100 == 0:\n",
    "        print('Epoch {:4d}/{} W: {:.3f}, b: {:.3f} Cost: {:.6f}'.format(\n",
    "            epoch, nb_epochs, W.item(), b.item(), cost.item()\n",
    "        ))"
   ]
  },
  {
   "cell_type": "code",
   "execution_count": null,
   "id": "6f1b90f5-6c1a-4e26-ab2e-cbfb2ae3b36e",
   "metadata": {},
   "outputs": [],
   "source": []
  }
 ],
 "metadata": {
  "kernelspec": {
   "display_name": "Python 3 (ipykernel)",
   "language": "python",
   "name": "python3"
  },
  "language_info": {
   "codemirror_mode": {
    "name": "ipython",
    "version": 3
   },
   "file_extension": ".py",
   "mimetype": "text/x-python",
   "name": "python",
   "nbconvert_exporter": "python",
   "pygments_lexer": "ipython3",
   "version": "3.11.5"
  }
 },
 "nbformat": 4,
 "nbformat_minor": 5
}
