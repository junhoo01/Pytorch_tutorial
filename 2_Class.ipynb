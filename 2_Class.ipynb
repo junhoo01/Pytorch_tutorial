{
  "nbformat": 4,
  "nbformat_minor": 0,
  "metadata": {
    "colab": {
      "provenance": [],
      "authorship_tag": "ABX9TyMHc7m8kt+FrcDzbIuxOK5s"
    },
    "kernelspec": {
      "name": "python3",
      "display_name": "Python 3"
    },
    "language_info": {
      "name": "python"
    }
  },
  "cells": [
    {
      "cell_type": "code",
      "execution_count": 1,
      "metadata": {
        "id": "p7KU7TAsicm6"
      },
      "outputs": [],
      "source": [
        "import torch\n",
        "import torch.nn as nn\n",
        "import torch.nn.functional as F\n",
        "import torch.optim as optim"
      ]
    },
    {
      "cell_type": "code",
      "source": [
        "torch.manual_seed(1)"
      ],
      "metadata": {
        "colab": {
          "base_uri": "https://localhost:8080/"
        },
        "id": "bwTcGpZAiwb7",
        "outputId": "0b4d0e04-2b76-4631-b50a-b40c204d67c9"
      },
      "execution_count": 2,
      "outputs": [
        {
          "output_type": "execute_result",
          "data": {
            "text/plain": [
              "<torch._C.Generator at 0x7d5d20779410>"
            ]
          },
          "metadata": {},
          "execution_count": 2
        }
      ]
    },
    {
      "cell_type": "code",
      "source": [
        "x_data = [[1, 2], [2, 3], [3, 1], [4, 3], [5, 3], [6, 2]]\n",
        "y_data = [[0], [0], [0], [1], [1], [1]]\n",
        "x_train = torch.FloatTensor(x_data)\n",
        "y_train = torch.FloatTensor(y_data)"
      ],
      "metadata": {
        "id": "6v50GYMWiwec"
      },
      "execution_count": 3,
      "outputs": []
    },
    {
      "cell_type": "code",
      "source": [
        "class BinaryClassifier(nn.Module):\n",
        "  def __init__(self):\n",
        "    super().__init__()\n",
        "    #입력 2개 출력 1개\n",
        "    self.linear  = nn.Linear(2,1)\n",
        "    #sigmoid 함수\n",
        "    self.sigmoid = nn.Sigmoid()\n",
        "\n",
        "  #sigmoid함수에 2dim input 1dim output\n",
        "  def forward(self, x):\n",
        "    return self.sigmoid(self.linear(x))"
      ],
      "metadata": {
        "id": "0BX9HRnViwg3"
      },
      "execution_count": 4,
      "outputs": []
    },
    {
      "cell_type": "code",
      "source": [
        "#위에서 선언한 모델을 받아옴\n",
        "model = BinaryClassifier()"
      ],
      "metadata": {
        "id": "GhC2ltS2iwjg"
      },
      "execution_count": 5,
      "outputs": []
    },
    {
      "cell_type": "code",
      "source": [
        "%matplotlib inline\n",
        "import numpy as np # 넘파이 사용\n",
        "import matplotlib.pyplot as plt # 맷플롯립사용"
      ],
      "metadata": {
        "id": "7eRaBubVloWC"
      },
      "execution_count": 11,
      "outputs": []
    },
    {
      "cell_type": "code",
      "source": [
        "#model의 parameter들을 learning rate 1로 변화시킬 것임\n",
        "optimizer = optim.SGD(model.parameters(), lr=1)\n",
        "\n",
        "nb_epochs = 1000\n",
        "for epoch in range(nb_epochs+1):\n",
        "\n",
        "  #예측치\n",
        "  hypothesis = model(x_train)\n",
        "\n",
        "  # torch.nn.functional 에 있는 binary_cross_entropy를 사용해서\n",
        "  # cost 측정\n",
        "  cost = F.binary_cross_entropy(hypothesis, y_train)\n",
        "\n",
        "  #초기화\n",
        "  optimizer.zero_grad()\n",
        "  #미분\n",
        "  cost.backward()\n",
        "  #업데이트\n",
        "  optimizer.step()\n",
        "\n",
        "\n",
        "  # 100번마다 로그 출력\n",
        "  if epoch % 100 == 0:\n",
        "      prediction = hypothesis >= torch.FloatTensor([0.5]) # 예측값이 0.5를 넘으면 True로 간주\n",
        "      correct_prediction = prediction.float() == y_train # 실제값과 일치하는 경우만 True로 간주\n",
        "      accuracy = correct_prediction.sum().item() / len(correct_prediction) # 정확도를 계산\n",
        "      print('Epoch {:4d}/{} Cost: {:.6f} Accuracy {:2.2f}%'.format( # 각 에포크마다 정확도를 출력\n",
        "          epoch, nb_epochs, cost.item(), accuracy * 100,\n",
        "        ))\n",
        "\n",
        ""
      ],
      "metadata": {
        "colab": {
          "base_uri": "https://localhost:8080/"
        },
        "id": "vZ6YlDRWiwl-",
        "outputId": "db6e5c8e-26c4-4f69-adcd-bd3c9ca5ecd8"
      },
      "execution_count": 21,
      "outputs": [
        {
          "output_type": "stream",
          "name": "stdout",
          "text": [
            "Epoch    0/1000 Cost: 0.005243 Accuracy 100.00%\n",
            "Epoch  100/1000 Cost: 0.005118 Accuracy 100.00%\n",
            "Epoch  200/1000 Cost: 0.004999 Accuracy 100.00%\n",
            "Epoch  300/1000 Cost: 0.004886 Accuracy 100.00%\n",
            "Epoch  400/1000 Cost: 0.004777 Accuracy 100.00%\n",
            "Epoch  500/1000 Cost: 0.004673 Accuracy 100.00%\n",
            "Epoch  600/1000 Cost: 0.004574 Accuracy 100.00%\n",
            "Epoch  700/1000 Cost: 0.004479 Accuracy 100.00%\n",
            "Epoch  800/1000 Cost: 0.004387 Accuracy 100.00%\n",
            "Epoch  900/1000 Cost: 0.004300 Accuracy 100.00%\n",
            "Epoch 1000/1000 Cost: 0.004215 Accuracy 100.00%\n"
          ]
        }
      ]
    }
  ]
}